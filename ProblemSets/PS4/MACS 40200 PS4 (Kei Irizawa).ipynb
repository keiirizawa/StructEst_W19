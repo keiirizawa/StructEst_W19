{
 "cells": [
  {
   "cell_type": "markdown",
   "metadata": {},
   "source": [
    "# MACS 40200 Problem Set #4 (Kei Irizawa)"
   ]
  },
  {
   "cell_type": "code",
   "execution_count": 1,
   "metadata": {},
   "outputs": [],
   "source": [
    "import numpy as np\n",
    "import numpy.linalg as lin\n",
    "import scipy.stats as sts\n",
    "import scipy.integrate as intgr\n",
    "import scipy.optimize as opt\n",
    "import matplotlib\n",
    "import matplotlib.pyplot as plt\n",
    "import pandas as pd\n",
    "from mpl_toolkits.mplot3d import Axes3D\n",
    "# This next command is specifically for Jupyter Notebook\n",
    "%matplotlib notebook\n",
    "\n",
    "import requests\n",
    "from IPython.display import Image"
   ]
  },
  {
   "cell_type": "markdown",
   "metadata": {},
   "source": [
    "# Question 1 (a)"
   ]
  },
  {
   "cell_type": "markdown",
   "metadata": {},
   "source": [
    "Data on ($c_t, k_t, w_t, r_t$) are given. We will use the following set of characterizing equations of the Brock and Mirman model for estimation: \n",
    "\n",
    "\\begin{equation} \\tag{1}\n",
    "(c_t)^{-1} -\\beta E[r_{t+1}(c_{t+1})^{-1}] = 0  \n",
    "\\end{equation}\n",
    "\n",
    "\\begin{equation} \\tag{2}\n",
    "c_t+ k_{t+1} - w_t - r_tk_t = 0 \\quad \n",
    "\\end{equation}\n",
    "\n",
    "\\begin{equation} \\tag{3}\n",
    "w_t-(1-\\alpha)(e)^{z_t}(k_t)^\\alpha = 0 \\quad \n",
    "\\end{equation}\n",
    "\n",
    "\\begin{equation} \\tag{4}\n",
    "r_t - \\alpha (e)^{z_t}(k_t)^{\\alpha-1} =0 \\quad \n",
    "\\end{equation}\n",
    "\n",
    "\\begin{equation} \\tag{5}\n",
    "z_t = \\rho z_{t-1} + (1-\\rho)\\mu + \\epsilon_t \\\\\n",
    "\\mbox{where }E[\\epsilon_t] = 0 \n",
    "\\end{equation}\n",
    "\n",
    "\\begin{equation} \\tag{6}\n",
    "y_t = (e)^{z_t} (k_t)^\\alpha\n",
    "\\end{equation}\n"
   ]
  },
  {
   "cell_type": "markdown",
   "metadata": {},
   "source": [
    "### Data Structure"
   ]
  },
  {
   "cell_type": "code",
   "execution_count": 2,
   "metadata": {},
   "outputs": [
    {
     "data": {
      "text/html": [
       "<div>\n",
       "<style scoped>\n",
       "    .dataframe tbody tr th:only-of-type {\n",
       "        vertical-align: middle;\n",
       "    }\n",
       "\n",
       "    .dataframe tbody tr th {\n",
       "        vertical-align: top;\n",
       "    }\n",
       "\n",
       "    .dataframe thead th {\n",
       "        text-align: right;\n",
       "    }\n",
       "</style>\n",
       "<table border=\"1\" class=\"dataframe\">\n",
       "  <thead>\n",
       "    <tr style=\"text-align: right;\">\n",
       "      <th></th>\n",
       "      <th>ct</th>\n",
       "      <th>kt</th>\n",
       "      <th>wt</th>\n",
       "      <th>rt</th>\n",
       "      <th>yt</th>\n",
       "    </tr>\n",
       "  </thead>\n",
       "  <tbody>\n",
       "    <tr>\n",
       "      <th>0</th>\n",
       "      <td>1.128323e+07</td>\n",
       "      <td>8.040697e+06</td>\n",
       "      <td>1.120211e+07</td>\n",
       "      <td>1.008852</td>\n",
       "      <td>1.931398e+07</td>\n",
       "    </tr>\n",
       "    <tr>\n",
       "      <th>1</th>\n",
       "      <td>1.215464e+07</td>\n",
       "      <td>8.030754e+06</td>\n",
       "      <td>1.206726e+07</td>\n",
       "      <td>1.088112</td>\n",
       "      <td>2.080561e+07</td>\n",
       "    </tr>\n",
       "    <tr>\n",
       "      <th>2</th>\n",
       "      <td>1.097303e+07</td>\n",
       "      <td>8.650974e+06</td>\n",
       "      <td>1.089414e+07</td>\n",
       "      <td>0.911904</td>\n",
       "      <td>1.878300e+07</td>\n",
       "    </tr>\n",
       "    <tr>\n",
       "      <th>3</th>\n",
       "      <td>9.711635e+06</td>\n",
       "      <td>7.809971e+06</td>\n",
       "      <td>9.641815e+06</td>\n",
       "      <td>0.893986</td>\n",
       "      <td>1.662382e+07</td>\n",
       "    </tr>\n",
       "    <tr>\n",
       "      <th>4</th>\n",
       "      <td>9.245673e+06</td>\n",
       "      <td>6.912184e+06</td>\n",
       "      <td>9.179203e+06</td>\n",
       "      <td>0.961637</td>\n",
       "      <td>1.582621e+07</td>\n",
       "    </tr>\n",
       "  </tbody>\n",
       "</table>\n",
       "</div>"
      ],
      "text/plain": [
       "             ct            kt            wt        rt            yt\n",
       "0  1.128323e+07  8.040697e+06  1.120211e+07  1.008852  1.931398e+07\n",
       "1  1.215464e+07  8.030754e+06  1.206726e+07  1.088112  2.080561e+07\n",
       "2  1.097303e+07  8.650974e+06  1.089414e+07  0.911904  1.878300e+07\n",
       "3  9.711635e+06  7.809971e+06  9.641815e+06  0.893986  1.662382e+07\n",
       "4  9.245673e+06  6.912184e+06  9.179203e+06  0.961637  1.582621e+07"
      ]
     },
     "execution_count": 2,
     "metadata": {},
     "output_type": "execute_result"
    }
   ],
   "source": [
    "data = np.loadtxt('data/NewMacroSeries.txt', delimiter = ',')\n",
    "df = pd.DataFrame(data, columns = ['ct', 'kt', 'wt', 'rt', 'yt'])\n",
    "df.head()"
   ]
  },
  {
   "cell_type": "code",
   "execution_count": 3,
   "metadata": {},
   "outputs": [],
   "source": [
    "ct, kt, wt, rt, yt = np.loadtxt('data/NewMacroSeries.txt', unpack = True, delimiter = \",\")"
   ]
  },
  {
   "cell_type": "markdown",
   "metadata": {},
   "source": [
    "### Approach"
   ]
  },
  {
   "cell_type": "markdown",
   "metadata": {},
   "source": [
    "One nice property of the Brock and Mirman model is that the households decision has a known analytical solution in which the optimal savings decision $k_{t+1}$ is a function of the productivity shock today $z_t$ and the amount of capital today $k_t$. \n",
    "\n",
    "\\begin{equation} \\tag{7}\n",
    "k_{t+1} = \\alpha \\beta \\epsilon ^ z_t k_t^\\alpha\n",
    "\\end{equation}\n",
    "\n",
    "With this solution and equations (2) through (5), we can simulate the data of the Brock and Mirman model given parameters ($\\alpha, \\beta, \\rho, \\mu, \\sigma$). We will assume that $z_0 = \\mu$ and $k_1 = $ mean($k_t$) from the data. These are initial values that will not change across simulations. Also assume that $\\beta = 0.99$. Next we will draw a matrix of $S=1,000$ simulations (columns) of T = 100 (rows) from a uniform $u_{s,t}\\stackrel{}{\\sim}U(0,1)$ distribution. These draws will not change across this SMM estimation procedure. The process of simulations is described below:\n",
    "\n",
    "(Step 1) For each guess of the parameter vector ($\\alpha, \\beta = 0.99, \\rho, \\mu, \\sigma$), you can use $u_{s,t}$ to generate normally distributed errors $\\epsilon_{s,t} \\stackrel{}{\\sim} N(0, \\sigma)$ using the inverse cdf of the normal distribution, where s is the index of the simulation number (columns). \n",
    "\n",
    "(Step 2) With $\\epsilon_{s,t}, \\rho, \\mu$, and $z_0 = \\mu$ you can use (5) to generate the simulations for $z_{s,t}$.\n",
    "\n",
    "(Step 3) With $\\alpha, \\beta, z_{s,t}$, and $k_1$, you can use (7) to generate simulated values for $k_{s,t+1}$.\n",
    "\n",
    "(Step 4) With $\\alpha, z_{s,t}$, and $k_{s,t}$, you can use (3) and (4) to generate simulated values for $w_{s,t}$ annd $r_{s,t}$ respectively. \n",
    "\n",
    "(Step 5) With $w_{s,t}, r_{s,t},$ and $k_{s,t}$, you can use (2) to generate simulated values for $c_{s,t}$.\n",
    "\n",
    "(Step 6) With $\\alpha, z_{s,t},$ and $k_{s,t}$, you can use (6) to generate simulated values for $y_{s,t}$."
   ]
  },
  {
   "cell_type": "code",
   "execution_count": 4,
   "metadata": {},
   "outputs": [],
   "source": [
    "def simulated_values(unif_vals, xvals, params):\n",
    "    \n",
    "    ct, kt, wt, rt, yt = xvals\n",
    "    alpha, rho, mu, sigma = params\n",
    "    \n",
    "    N = unif_vals.shape[0]  # Number of periods\n",
    "    S = unif_vals.shape[1]  # Number of simulations\n",
    "    beta = 0.99\n",
    "    z_0 = mu\n",
    "    k_1 = np.mean(kt)\n",
    "    \n",
    "    ### (Step 1) normally distributed errors\n",
    "    epsilon = sts.norm.ppf(unif_vals, loc = 0, scale = sigma)\n",
    "    \n",
    "    ### (Step 2) Simulated values for z_s,t\n",
    "    z_sim = np.zeros((N, S))\n",
    "    z_sim[0, :] = rho * z_0 + (1 - rho) * mu + epsilon[0, :]  # z_1\n",
    "    for i in range(1, N):\n",
    "        z_sim[i, :] = rho * z_sim[i - 1, :] + (1 - rho) * mu + \\\n",
    "                        epsilon[i, :]\n",
    "    \n",
    "    ### (Step 3) Simulated values for k_s,t and k_s,t+1 \n",
    "    # We simulate for N+1 periods, so that we ensure k_s and k_s,t+1 have N periods\n",
    "    k_sim_all = np.zeros((N + 1, S))  \n",
    "    k_sim_all[0, :] = k_1\n",
    "    for i in range(1, N + 1):\n",
    "        k_sim_all[i, :] = alpha * beta * np.exp(z_sim[i - 1, :]) * \\\n",
    "                        k_sim_all[i - 1, :] ** alpha\n",
    "    \n",
    "    k_sim = k_sim_all[:-1, :]  # simulated values for k_s,t\n",
    "    k1_sim = k_sim_all[1:, :]  # simulated values for k_s,t+1\n",
    "        \n",
    "    ### (Step 4) Simulated values for w_s,t and r_s,t \n",
    "    w_sim = np.zeros((N, S))\n",
    "    for i in range(N):\n",
    "        w_sim[i, :] = (1 - alpha) * np.exp(z_sim[i, :]) * \\\n",
    "                        k_sim[i, :] ** alpha\n",
    "        \n",
    "    r_sim = np.zeros((N, S))\n",
    "    for i in range(N):\n",
    "        r_sim[i, :] = alpha * np.exp(z_sim[i, :]) * (k_sim[i, :]) \\\n",
    "                        ** (alpha - 1)\n",
    "    \n",
    "    ### (Step 5) Simulated values for c_s,t\n",
    "    c_sim = np.zeros((N, S))\n",
    "    for i in range(N):\n",
    "        c_sim[i, :] = w_sim[i, :] + r_sim[i, :] * k_sim[i, :] - k1_sim[i, :] \n",
    "    \n",
    "    ### (Step 6) Simulated values for y_s,t\n",
    "    y_sim = np.zeros((N, S))\n",
    "    for i in range(N):\n",
    "        y_sim[i, :] = np.exp(z_sim[i, :]) * (k_sim[i, :]) ** alpha\n",
    "        \n",
    "    return c_sim, k_sim, y_sim"
   ]
  },
  {
   "cell_type": "markdown",
   "metadata": {},
   "source": [
    "### Moment Conditions"
   ]
  },
  {
   "cell_type": "code",
   "execution_count": 5,
   "metadata": {},
   "outputs": [],
   "source": [
    "def data_moments(xvals):\n",
    "    \n",
    "    ct, kt, wt, rt, yt = xvals\n",
    "    \n",
    "    # data_moment 1: mean of ct\n",
    "    dm1 = np.mean(ct)\n",
    "    \n",
    "    # data_moment 2: mean of kt\n",
    "    dm2 = np.mean(kt)\n",
    "    \n",
    "    # data_moment 3: mean of ct / yt\n",
    "    dm3 = np.mean(ct / yt)\n",
    "    \n",
    "    # data_moment 4: variance of yt\n",
    "    dm4 = np.var(yt)\n",
    "    \n",
    "    # data_moment 5: correaltion between ct and c_(t-1)\n",
    "    c_t = ct[1:]  # ct\n",
    "    c_lag = ct[:-1]  # c_(t-1)\n",
    "    dm5 = np.corrcoef(c_t, c_lag)[0][1]\n",
    "    \n",
    "    # data_moment 6: correlation betweeh ct and kt\n",
    "    dm6 = np.corrcoef(ct, kt)[0][1]\n",
    "    \n",
    "    return dm1, dm2, dm3, dm4, dm5, dm6"
   ]
  },
  {
   "cell_type": "code",
   "execution_count": 6,
   "metadata": {},
   "outputs": [],
   "source": [
    "def model_moments(c_sim, k_sim, y_sim):\n",
    "    \n",
    "    # model_moment 1: mean of ct\n",
    "    mm1 = np.mean(c_sim, axis = 0)\n",
    "    mm1 = np.mean(mm1)\n",
    "    \n",
    "    # model_moment 2: mean of kt\n",
    "    mm2 = np.mean(k_sim, axis = 0)\n",
    "    mm2 = np.mean(mm2)\n",
    "    \n",
    "    # model_moment 3: mean of ct / yt\n",
    "    mm3 = np.mean((c_sim / y_sim), axis = 0)\n",
    "    mm3 = np.mean(mm3)\n",
    "    \n",
    "    # model_moment 4: variance of yt  \n",
    "    mm4 = np.var(y_sim, axis = 0)\n",
    "    mm4 = np.mean(mm4)\n",
    "    \n",
    "    # model_moment 5: correlation betweeen ct and c_(t-1)\n",
    "    mm5 = []\n",
    "    for i in range(c_sim.shape[1]):\n",
    "        mm5.append(np.corrcoef(c_sim[1:, i], c_sim[:-1, i])[0][1])  \n",
    "    mm5 = np.mean(np.array(mm5))\n",
    "    \n",
    "    # model_moment 6: correlation between ct and kt \n",
    "    mm6 = []\n",
    "    for i in range(c_sim.shape[1]):\n",
    "        mm6.append(np.corrcoef(c_sim[:, i], k_sim[:, i])[0][1])\n",
    "    mm6 = np.mean(np.array(mm6))\n",
    "    \n",
    "    return mm1, mm2, mm3, mm4, mm5, mm6"
   ]
  },
  {
   "cell_type": "markdown",
   "metadata": {},
   "source": [
    "### Constructing Criterion Function for the Optimization Problem"
   ]
  },
  {
   "cell_type": "code",
   "execution_count": 7,
   "metadata": {},
   "outputs": [],
   "source": [
    "def err_vec(xvals, unif_vals, params, simple):\n",
    "    \n",
    "    # data_moments:\n",
    "    dm1, dm2, dm3, dm4, dm5, dm6 = data_moments(xvals)\n",
    "    moms_data = np.array([[dm1], [dm2], [dm3], [dm4], [dm5], [dm6]])\n",
    "    \n",
    "    # model_moments:\n",
    "    c_sim, k_sim, y_sim = simulated_values(unif_vals, xvals, params)\n",
    "    mm1, mm2, mm3, mm4, mm5, mm6 = model_moments(c_sim, k_sim, y_sim)\n",
    "    moms_model = np.array([[mm1], [mm2], [mm3], [mm4], [mm5], [mm6]])\n",
    "    \n",
    "    if simple:\n",
    "        err_vec = moms_model - moms_data\n",
    "    else:\n",
    "        err_vec = (moms_model - moms_data) / moms_data\n",
    "\n",
    "    return err_vec"
   ]
  },
  {
   "cell_type": "code",
   "execution_count": 8,
   "metadata": {},
   "outputs": [],
   "source": [
    "def criterion(params, args):\n",
    "    \n",
    "    ct, kt, wt, rt, yt, unif_vals, W_hat = args\n",
    "    \n",
    "    err = err_vec((ct, kt, wt, rt, yt), unif_vals, params, simple = False)\n",
    "    crit_val = err.T @ W_hat @ err \n",
    "    \n",
    "    return crit_val"
   ]
  },
  {
   "cell_type": "markdown",
   "metadata": {},
   "source": [
    "### SMM Optimization Problem "
   ]
  },
  {
   "cell_type": "code",
   "execution_count": 9,
   "metadata": {},
   "outputs": [],
   "source": [
    "# initial guess of parameters: used GMM estimated parameters from PS3 for alpha_init, rho_init, mu_init\n",
    "alpha_init = 0.42410452\n",
    "rho_init = 0.82875887\n",
    "mu_init = 9.978308\n",
    "sigma_init = 0.9\n",
    "params_init = np.array([alpha_init, rho_init, mu_init, sigma_init])\n",
    "\n",
    "np.random.seed(25)  \n",
    "N = 100   # 100 periods\n",
    "S = 1000  # 1000 simulations\n",
    "unif_vals = sts.uniform.rvs(0, 1, size=(N, S))\n",
    "W_hat_init = np.eye(6)\n",
    "args_init = np.array([ct, kt, wt, rt, yt, unif_vals, W_hat_init])\n",
    "\n",
    "bnds = ((0.01, 0.99), (-0.99, 0.99), (5, 14), (0.01, 1.1))\n",
    "\n",
    "results_SMM = opt.minimize(criterion, params_init, args = args_init, \n",
    "                           bounds = bnds, method = 'L-BFGS-B', tol = 1e-15)\n",
    "\n",
    "alpha_SMM, rho_SMM, mu_SMM, sigma_SMM = results_SMM.x"
   ]
  },
  {
   "cell_type": "code",
   "execution_count": 10,
   "metadata": {},
   "outputs": [
    {
     "data": {
      "text/plain": [
       "      fun: array([[4.39206567e-06]])\n",
       " hess_inv: <4x4 LbfgsInvHessProduct with dtype=float64>\n",
       "      jac: array([7.47889477e-06, 4.92815542e-07, 4.10829360e-07, 1.28670640e-06])\n",
       "  message: b'CONVERGENCE: REL_REDUCTION_OF_F_<=_FACTR*EPSMCH'\n",
       "     nfev: 575\n",
       "      nit: 59\n",
       "   status: 0\n",
       "  success: True\n",
       "        x: array([0.42103733, 0.91775245, 9.92752469, 0.08896295])"
      ]
     },
     "execution_count": 10,
     "metadata": {},
     "output_type": "execute_result"
    }
   ],
   "source": [
    "results_SMM"
   ]
  },
  {
   "cell_type": "markdown",
   "metadata": {},
   "source": [
    "### SMM Estimates, Vector of Moment Differences at Optimum, Criterion Function Value "
   ]
  },
  {
   "cell_type": "code",
   "execution_count": 11,
   "metadata": {},
   "outputs": [
    {
     "name": "stdout",
     "output_type": "stream",
     "text": [
      "Estimates:\n",
      "alpha_SMM= 0.4210373343333368\n",
      "rho_SMM= 0.9177524495375082\n",
      "mu_SMM= 9.92752468923445\n",
      "sigma_SMM= 0.08896294665425233\n",
      "Vector of Moment Differences at Optimum = [[ 7.37244260e-04]\n",
      " [-7.44400895e-04]\n",
      " [-1.75789283e-03]\n",
      " [-1.61300312e-07]\n",
      " [ 3.20452648e-04]\n",
      " [-3.18632633e-04]]\n",
      "Criterion Function = [[4.39206567e-06]]\n"
     ]
    }
   ],
   "source": [
    "print('Estimates:')\n",
    "print('alpha_SMM=', alpha_SMM)\n",
    "print('rho_SMM=', rho_SMM)\n",
    "print('mu_SMM=', mu_SMM)\n",
    "print('sigma_SMM=', sigma_SMM)\n",
    "print('Vector of Moment Differences at Optimum =', \n",
    "      err_vec((ct, kt, wt, rt, yt), unif_vals, (alpha_SMM, rho_SMM, mu_SMM, sigma_SMM), simple = False))\n",
    "print('Criterion Function =', results_SMM.fun)"
   ]
  },
  {
   "cell_type": "markdown",
   "metadata": {},
   "source": [
    "### Computing the Standard Errors for Estimated Parameter vector "
   ]
  },
  {
   "cell_type": "code",
   "execution_count": 12,
   "metadata": {},
   "outputs": [],
   "source": [
    "def Jac_err(xvals, unif_vals, params, simple):\n",
    "    \n",
    "    ct, kt, wt, rt, yt = xvals\n",
    "    alpha, rho, mu, sigma = params\n",
    "    \n",
    "    # 6 is the number of moment conditions, and 4 is the number of parameters we are estimating\n",
    "    Jac_err = np.zeros((6,4))  \n",
    "    h_alpha = 1e-4 * alpha\n",
    "    h_rho = 1e-4 * rho\n",
    "    h_mu = 1e-4 * mu\n",
    "    h_sigma = 1e-4 * sigma\n",
    "    \n",
    "    Jac_err[:, 0] = \\\n",
    "        ((err_vec(xvals, unif_vals, (alpha + h_alpha, rho, mu, sigma), simple) - \n",
    "          err_vec(xvals, unif_vals, (alpha - h_alpha, rho, mu, sigma), simple)) / (2 * h_alpha)).flatten()\n",
    "    \n",
    "    Jac_err[:, 1] = \\\n",
    "        ((err_vec(xvals, unif_vals, (alpha, rho + h_rho, mu, sigma), simple) - \n",
    "          err_vec(xvals, unif_vals, (alpha, rho - h_rho, mu, sigma), simple)) / (2 * h_rho)).flatten()\n",
    "    \n",
    "    Jac_err[:, 2] = \\\n",
    "        ((err_vec(xvals, unif_vals, (alpha, rho, mu + h_mu, sigma), simple) - \n",
    "          err_vec(xvals, unif_vals, (alpha, rho, mu - h_mu, sigma), simple)) / (2 * h_mu)).flatten()\n",
    "    \n",
    "    Jac_err[:, 3] = \\\n",
    "        ((err_vec(xvals, unif_vals, (alpha, rho, mu, sigma  + h_sigma), simple) - \n",
    "          err_vec(xvals, unif_vals, (alpha, rho, mu, sigma  - h_sigma), simple)) / (2 * h_sigma)).flatten()\n",
    "    \n",
    "    return Jac_err"
   ]
  },
  {
   "cell_type": "code",
   "execution_count": 13,
   "metadata": {},
   "outputs": [
    {
     "name": "stdout",
     "output_type": "stream",
     "text": [
      "Jacobian Matrix =  [[ 2.70595979e+01  8.52841212e-01  1.71640193e+00  1.56427193e+00]\n",
      " [ 3.07758291e+01  8.41574827e-01  1.69658829e+00  1.54610624e+00]\n",
      " [-1.69462513e+00  0.00000000e+00  0.00000000e+00  1.06881049e-11]\n",
      " [ 6.13659525e+01  1.21935651e+01  3.45960323e+00  2.76849452e+01]\n",
      " [ 1.45237215e-01  4.25852739e-01  1.01858746e-03 -8.89506489e-02]\n",
      " [ 2.48230100e-01  4.30866376e-01  6.64600218e-03 -8.60840701e-02]]\n",
      "Initial Optimal Weighting Matrix = [[1. 0. 0. 0. 0. 0.]\n",
      " [0. 1. 0. 0. 0. 0.]\n",
      " [0. 0. 1. 0. 0. 0.]\n",
      " [0. 0. 0. 1. 0. 0.]\n",
      " [0. 0. 0. 0. 1. 0.]\n",
      " [0. 0. 0. 0. 0. 1.]]\n",
      "Variance-Covariance Matrix = [[ 9.02319947e-05 -2.69684872e-05 -1.51626295e-03  1.34877525e-06]\n",
      " [-2.69684872e-05  2.31752764e-03  1.98148948e-04 -9.85428065e-04]\n",
      " [-1.51626295e-03  1.98148948e-04  2.57275350e-02  5.72752807e-05]\n",
      " [ 1.34877525e-06 -9.85428065e-04  5.72752807e-05  4.25224643e-04]]\n"
     ]
    }
   ],
   "source": [
    "S = unif_vals.shape[1]\n",
    "xvals = (ct, kt, wt, rt, yt)\n",
    "d_err = Jac_err(xvals, unif_vals, (alpha_SMM, rho_SMM, mu_SMM, sigma_SMM), simple = False)\n",
    "print('Jacobian Matrix = ', d_err)\n",
    "print('Initial Optimal Weighting Matrix =', W_hat_init)\n",
    "SigHat = (1 / S) * lin.inv(d_err.T @ W_hat_init @ d_err)\n",
    "print('Variance-Covariance Matrix =', SigHat)"
   ]
  },
  {
   "cell_type": "markdown",
   "metadata": {},
   "source": [
    "### Standard Errors for Estimated Parameter vector "
   ]
  },
  {
   "cell_type": "code",
   "execution_count": 14,
   "metadata": {},
   "outputs": [
    {
     "name": "stdout",
     "output_type": "stream",
     "text": [
      "Std. err. alpha_hat = 0.009499052305994385\n",
      "Std. err. rho_hat = 0.04814070670742166\n",
      "Std. err. mu_hat = 0.16039805179809616\n",
      "Std. err. sigma_hat = 0.02062097580744679\n"
     ]
    }
   ],
   "source": [
    "print('Std. err. alpha_hat =', np.sqrt(SigHat[0, 0]))\n",
    "print('Std. err. rho_hat =', np.sqrt(SigHat[1, 1]))\n",
    "print('Std. err. mu_hat =', np.sqrt(SigHat[2, 2]))\n",
    "print('Std. err. sigma_hat =', np.sqrt(SigHat[3, 3]))"
   ]
  },
  {
   "cell_type": "markdown",
   "metadata": {},
   "source": [
    "# Question 1 (b)"
   ]
  },
  {
   "cell_type": "markdown",
   "metadata": {},
   "source": [
    "### Construction of the $E(\\tilde{x},x|\\theta)$ matrix"
   ]
  },
  {
   "cell_type": "markdown",
   "metadata": {},
   "source": [
    "This $E(\\tilde{x},x|\\theta)$ matrix represents the contribution of the $s$th simulated moment to the $r$th moment error. Define $E(\\tilde{x},x|\\theta)$ as the $R\\times S$ matrix of moment error functions from each simulation. When the errors are percent deviations, the $E(\\tilde{x},x|\\theta)$ matrix is the following.\n",
    "\n",
    "$$ E(\\tilde{x},x|\\theta) =\n",
    "  \\begin{bmatrix}\n",
    "    \\frac{m_1(\\tilde{x}_1|\\theta) - m_1(x)}{m_1(x)} & \\frac{m_1(\\tilde{x}_2|\\theta) - m_1(x)}{m_1(x)} & ... & \\frac{m_1(\\tilde{x}_S|\\theta) - m_1(x)}{m_1(x)} \\\\\n",
    "    \\frac{m_2(\\tilde{x}_1|\\theta) - m_2(x)}{m_2(x)} & \\frac{m_2(\\tilde{x}_2|\\theta) - m_2(x)}{m_2(x)} & ... & \\frac{m_2(\\tilde{x}_S|\\theta) - m_2(x)}{m_2(x)} \\\\\n",
    "    \\vdots & \\vdots & \\ddots & \\vdots \\\\\n",
    "    \\frac{m_R(\\tilde{x}_1|\\theta) - m_R(x)}{m_R(x)} & \\frac{m_R(\\tilde{x}_2|\\theta) - m_R(x)}{m_R(x)} & ... & \\frac{m_R(\\tilde{x}_S|\\theta) - m_R(x)}{m_R(x)} \\\\\n",
    "  \\end{bmatrix} $$\n",
    "\n",
    "where $m_r(x)$ is the $r$th data moment which is constant across each row, and $m_r(\\tilde{x}_s|\\theta)$ is the $r$th model moment from the $s$th simulation which are changing across each row. "
   ]
  },
  {
   "cell_type": "code",
   "execution_count": 15,
   "metadata": {},
   "outputs": [],
   "source": [
    "def model_moments2(c_sim, k_sim, y_sim): \n",
    "    '''\n",
    "    This function is different from model_moments previously defined.\n",
    "    Constructs model moment vectors of length S. \n",
    "    Each element in the vector represents the model moment from simulation i.\n",
    "    '''\n",
    "    # model_moment 1 vector: mean of ct\n",
    "    mm1 = np.mean(c_sim, axis = 0)\n",
    "    \n",
    "    # model_moment 2 vector: mean of kt\n",
    "    mm2 = np.mean(k_sim, axis = 0)\n",
    "    \n",
    "    # model_moment 3 vector: mean of ct / yt\n",
    "    mm3 = np.mean((c_sim / y_sim), axis = 0)\n",
    "    \n",
    "    # model_moment 4 vector: variance of yt  \n",
    "    mm4 = np.var(y_sim, axis = 0)\n",
    "    \n",
    "    # model_moment 5 vector: correlation betweeen ct and c_(t-1)\n",
    "    mm5 = []\n",
    "    for i in range(c_sim.shape[1]):\n",
    "        mm5.append(np.corrcoef(c_sim[1:, i], c_sim[:-1, i])[0][1])  \n",
    "    mm5 = np.array(mm5)\n",
    "    \n",
    "    # model_moment 6 vector: correlation between ct and kt \n",
    "    mm6 = []\n",
    "    for i in range(c_sim.shape[1]):\n",
    "        mm6.append(np.corrcoef(c_sim[:, i], k_sim[:, i])[0][1])\n",
    "    mm6 = np.array(mm6)\n",
    "    \n",
    "    return mm1, mm2, mm3, mm4, mm5, mm6"
   ]
  },
  {
   "cell_type": "code",
   "execution_count": 16,
   "metadata": {},
   "outputs": [],
   "source": [
    "def get_Err_mat(xvals, params, simple):\n",
    "    \n",
    "    R = 6  # Number of moment conditions\n",
    "    S = unif_vals.shape[1]  # In our case, it is 1000 simulations\n",
    "    Err_mat = np.zeros((R,S))\n",
    "    \n",
    "    # data_moments:\n",
    "    dm1, dm2, dm3, dm4, dm5, dm6 = data_moments(xvals)\n",
    "    moms_data = np.array([[dm1], [dm2], [dm3], [dm4], [dm5], [dm6]])\n",
    "    \n",
    "    # model_moments:\n",
    "    c_sim, k_sim, y_sim = simulated_values(unif_vals, xvals, params)\n",
    "    mm1, mm2, mm3, mm4, mm5, mm6 = model_moments2(c_sim, k_sim, y_sim)\n",
    "    moms_model = np.array([[mm1], [mm2], [mm3], [mm4], [mm5], [mm6]])\n",
    "    \n",
    "    if simple:\n",
    "        Err_mat[0, :] = mm1 - dm1\n",
    "        Err_mat[1, :] = mm2 - dm2\n",
    "        Err_mat[2, :] = mm3 - dm3\n",
    "        Err_mat[3, :] = mm4 - dm4\n",
    "        Err_mat[4, :] = mm5 - dm5\n",
    "        Err_mat[5, :] = mm6 - dm6\n",
    "        \n",
    "    else:\n",
    "        Err_mat[0, :] = (mm1 - dm1) / dm1\n",
    "        Err_mat[1, :] = (mm2 - dm2) / dm2\n",
    "        Err_mat[2, :] = (mm3 - dm3) / dm3\n",
    "        Err_mat[3, :] = (mm4 - dm4) / dm4\n",
    "        Err_mat[4, :] = (mm5 - dm5) / dm5\n",
    "        Err_mat[5, :] = (mm6 - dm6) / dm6\n",
    "    \n",
    "    return Err_mat"
   ]
  },
  {
   "cell_type": "markdown",
   "metadata": {},
   "source": [
    "### Construction of the Optimal Weighting Matrix"
   ]
  },
  {
   "cell_type": "markdown",
   "metadata": {},
   "source": [
    "We use the $E(\\tilde{x},x|\\theta)$ data matrix and the Step 1 SMM estimate $e(x|\\hat{\\theta}_{1,SMM})$ to get a new estimate of the variance covariance matrix.\n",
    "\n",
    "$$ \\hat{\\Omega}_2 = \\frac{1}{S}E(\\tilde{x},x|\\hat{\\theta}_{1,SMM})\\,E(\\tilde{x},x|\\hat{\\theta}_{1,SMM})^T $$\n",
    "  \n",
    "This is simply saying that the $(r,s)$-element of the estimator of the variance-covariance matrix of the moment vector is the following.\n",
    "\n",
    "$$\\hat{\\Omega}_{r,s} = \\frac{1}{S}\\sum_{i=1}^S\\Bigl[m_r(\\tilde{x}_i|\\theta) - m_{r}(x)\\Bigr]\\Bigl[ m_s(\\tilde{x}_i|\\theta) - m_s(x)\\Bigr] $$\n",
    "\n",
    "The optimal weighting matrix is the inverse of the two-step variance covariance matrix.\n",
    "\n",
    "$$ \\hat{W}^{two-step} \\equiv \\hat{\\Omega}_2^{-1} $$"
   ]
  },
  {
   "cell_type": "code",
   "execution_count": 17,
   "metadata": {},
   "outputs": [
    {
     "name": "stdout",
     "output_type": "stream",
     "text": [
      "Variance-Covariance Matrix of Moment Vector = [[ 3.25711109e-02  3.23087994e-02 -1.29599640e-06  9.46589494e-02\n",
      "   6.04896910e-04  6.42882650e-04]\n",
      " [ 3.23087994e-02  3.20636654e-02  1.30857699e-06  9.39284291e-02\n",
      "   5.99351955e-04  6.38107909e-04]\n",
      " [-1.29599640e-06  1.30857699e-06  3.09018719e-06  2.83548663e-10\n",
      "  -5.63321412e-07  5.60122021e-07]\n",
      " [ 9.46589494e-02  9.39284291e-02  2.83548663e-10  6.61004952e-01\n",
      "   1.15166589e-02  1.16540804e-02]\n",
      " [ 6.04896910e-04  5.99351955e-04 -5.63321412e-07  1.15166589e-02\n",
      "   6.74669774e-04  6.76761493e-04]\n",
      " [ 6.42882650e-04  6.38107909e-04  5.60122021e-07  1.16540804e-02\n",
      "   6.76761493e-04  6.80312368e-04]]\n",
      "Optimal Two-Step Weighting Matrix = [[ 7.64716417e+04 -7.70661699e+04  6.14061889e+04 -8.09344842e-01\n",
      "  -9.10844929e+03  9.04514758e+03]\n",
      " [-7.70661699e+04  7.77273899e+04 -6.14758801e+04 -1.01325278e+01\n",
      "   1.04406183e+04 -1.02412482e+04]\n",
      " [ 6.14061889e+04 -6.14758801e+04  5.04942902e+05 -4.05050706e+00\n",
      "   3.56924662e+05 -3.55773659e+05]\n",
      " [-8.09344842e-01 -1.01325278e+01 -4.05050706e+00  4.12824618e+00\n",
      "  -5.22824324e+01 -8.43722291e+00]\n",
      " [-9.10844929e+03  1.04406183e+04  3.56924662e+05 -5.22824324e+01\n",
      "   1.00676826e+06 -1.00209729e+06]\n",
      " [ 9.04514758e+03 -1.02412482e+04 -3.55773659e+05 -8.43722291e+00\n",
      "  -1.00209729e+06  9.99832652e+05]]\n"
     ]
    }
   ],
   "source": [
    "xvals = (ct, kt, wt, rt, yt)\n",
    "params = (alpha_SMM, rho_SMM, mu_SMM, sigma_SMM)\n",
    "Err_mat = get_Err_mat(xvals, params, simple = False)\n",
    "VCV2 = (1 / unif_vals.shape[1]) * (Err_mat @ Err_mat.T)\n",
    "print('Variance-Covariance Matrix of Moment Vector =', VCV2)\n",
    "W_hat2 = lin.inv(VCV2)\n",
    "print('Optimal Two-Step Weighting Matrix =', W_hat2)"
   ]
  },
  {
   "cell_type": "markdown",
   "metadata": {},
   "source": [
    "### Two-Step SMM Optimization Problem"
   ]
  },
  {
   "cell_type": "markdown",
   "metadata": {},
   "source": [
    "We will re-estimate the SMM estimator using the optimal two-step weighting matrix.\n",
    "\n",
    "$$ \\hat{\\theta}_{2,SMM}=\\theta:\\quad \\min_{\\theta}\\:e(\\tilde{x},x|\\theta)^T \\, \\hat{W}^{two-step} \\, e(\\tilde{x},x|\\theta) $$\n",
    "\n",
    "$\\hat{\\theta}_{2, SMM}$ is called the two-step SMM estimator."
   ]
  },
  {
   "cell_type": "code",
   "execution_count": 18,
   "metadata": {},
   "outputs": [],
   "source": [
    "params_init2 = np.array([alpha_SMM, rho_SMM, mu_SMM, sigma_SMM])\n",
    "args_init2 = np.array([ct, kt, wt, rt, yt, unif_vals, W_hat2])\n",
    "bnds = ((0.01, 0.99), (-0.99, 0.99), (5, 14), (0.01, 1.1))\n",
    "\n",
    "results_SMM2 = opt.minimize(criterion, params_init2, args = (args_init2),\n",
    "                         method = 'L-BFGS-B', bounds = bnds)\n",
    "\n",
    "alpha_SMM2, rho_SMM2, mu_SMM2, sigma_SMM2 = results_SMM2.x"
   ]
  },
  {
   "cell_type": "code",
   "execution_count": 19,
   "metadata": {},
   "outputs": [
    {
     "data": {
      "text/plain": [
       "      fun: array([[0.73844739]])\n",
       " hess_inv: <4x4 LbfgsInvHessProduct with dtype=float64>\n",
       "      jac: array([ 5.13197262e-03,  5.30464561e-05, -1.01363362e-05,  1.42408307e-04])\n",
       "  message: b'CONVERGENCE: REL_REDUCTION_OF_F_<=_FACTR*EPSMCH'\n",
       "     nfev: 155\n",
       "      nit: 27\n",
       "   status: 0\n",
       "  success: True\n",
       "        x: array([0.42076554, 0.91776852, 9.92957699, 0.08869718])"
      ]
     },
     "execution_count": 19,
     "metadata": {},
     "output_type": "execute_result"
    }
   ],
   "source": [
    "results_SMM2"
   ]
  },
  {
   "cell_type": "markdown",
   "metadata": {},
   "source": [
    "### SMM Estimates, Vector of Moment Differences at Optimum, Criterion Function Value "
   ]
  },
  {
   "cell_type": "code",
   "execution_count": 20,
   "metadata": {},
   "outputs": [
    {
     "name": "stdout",
     "output_type": "stream",
     "text": [
      "Estimates:\n",
      "alpha_SMM= 0.4207655355747233\n",
      "rho_SMM= 0.9177685235374092\n",
      "mu_SMM= 9.929576993457708\n",
      "sigma_SMM= 0.08869718019244954\n",
      "Vector of Moment Differences at Optimum = [[-0.0034851 ]\n",
      " [-0.00600784]\n",
      " [-0.0012973 ]\n",
      " [-0.01660245]\n",
      " [ 0.0003134 ]\n",
      " [-0.00034344]]\n",
      "Criterion Function = [[0.73844739]]\n"
     ]
    }
   ],
   "source": [
    "print('Estimates:')\n",
    "print('alpha_SMM=', alpha_SMM2)\n",
    "print('rho_SMM=', rho_SMM2)\n",
    "print('mu_SMM=', mu_SMM2)\n",
    "print('sigma_SMM=', sigma_SMM2)\n",
    "print('Vector of Moment Differences at Optimum =', \n",
    "      err_vec((ct, kt, wt, rt, yt), unif_vals, (alpha_SMM2, rho_SMM2, mu_SMM2, sigma_SMM2), simple = False))\n",
    "print('Criterion Function =', results_SMM2.fun)"
   ]
  },
  {
   "cell_type": "markdown",
   "metadata": {},
   "source": [
    "### Computing the Standard Errors for Estimated Parameter vector "
   ]
  },
  {
   "cell_type": "code",
   "execution_count": 21,
   "metadata": {},
   "outputs": [
    {
     "name": "stdout",
     "output_type": "stream",
     "text": [
      "Jacobian Matrix =  [[ 2.69229384e+01  8.43815279e-01  1.70834986e+00  1.55210711e+00]\n",
      " [ 3.05906178e+01  8.31742917e-01  1.68676140e+00  1.53238413e+00]\n",
      " [-1.69462513e+00  0.00000000e+00  9.56497043e-14  0.00000000e+00]\n",
      " [ 6.02918020e+01  1.19712805e+01  3.40025804e+00  2.72726955e+01]\n",
      " [ 1.46579608e-01  4.26155087e-01  1.09044904e-03 -8.86052985e-02]\n",
      " [ 2.57013179e-01  4.31274884e-01  7.12635238e-03 -8.53776892e-02]]\n",
      "Optimal Two-Step Weighting Matrix = [[ 7.64716417e+04 -7.70661699e+04  6.14061889e+04 -8.09344842e-01\n",
      "  -9.10844929e+03  9.04514758e+03]\n",
      " [-7.70661699e+04  7.77273899e+04 -6.14758801e+04 -1.01325278e+01\n",
      "   1.04406183e+04 -1.02412482e+04]\n",
      " [ 6.14061889e+04 -6.14758801e+04  5.04942902e+05 -4.05050706e+00\n",
      "   3.56924662e+05 -3.55773659e+05]\n",
      " [-8.09344842e-01 -1.01325278e+01 -4.05050706e+00  4.12824618e+00\n",
      "  -5.22824324e+01 -8.43722291e+00]\n",
      " [-9.10844929e+03  1.04406183e+04  3.56924662e+05 -5.22824324e+01\n",
      "   1.00676826e+06 -1.00209729e+06]\n",
      " [ 9.04514758e+03 -1.02412482e+04 -3.55773659e+05 -8.43722291e+00\n",
      "  -1.00209729e+06  9.99832652e+05]]\n",
      "Variance-Covariance Matrix = [[ 2.82434830e-10 -2.47299965e-11 -2.18223021e-09  2.79541230e-10]\n",
      " [-2.47299963e-11  3.44789922e-06 -8.04498225e-07 -4.43221989e-07]\n",
      " [-2.18223021e-09 -8.04498225e-07  8.66303489e-06  1.43793156e-07]\n",
      " [ 2.79541230e-10 -4.43221989e-07  1.43793156e-07  4.44946736e-07]]\n"
     ]
    }
   ],
   "source": [
    "S = unif_vals.shape[1]\n",
    "xvals = (ct, kt, wt, rt, yt)\n",
    "d_err2 = Jac_err(xvals, unif_vals, (alpha_SMM2, rho_SMM2, mu_SMM2, sigma_SMM2), False)\n",
    "print('Jacobian Matrix = ', d_err2)\n",
    "print('Optimal Two-Step Weighting Matrix =', W_hat2)\n",
    "SigHat2 = (1 / S) * lin.inv(d_err2.T @ W_hat2 @ d_err2)\n",
    "print('Variance-Covariance Matrix =', SigHat2)"
   ]
  },
  {
   "cell_type": "markdown",
   "metadata": {},
   "source": [
    "### Standard Errors for Estimated Parameter vector "
   ]
  },
  {
   "cell_type": "code",
   "execution_count": 22,
   "metadata": {},
   "outputs": [
    {
     "name": "stdout",
     "output_type": "stream",
     "text": [
      "Std. err. alpha_hat = 1.680579749813418e-05\n",
      "Std. err. rho_hat = 0.0018568519647986026\n",
      "Std. err. mu_hat = 0.0029433033982086375\n",
      "Std. err. sigma_hat = 0.0006670432789219563\n"
     ]
    }
   ],
   "source": [
    "print('Std. err. alpha_hat =', np.sqrt(SigHat2[0, 0]))\n",
    "print('Std. err. rho_hat =', np.sqrt(SigHat2[1, 1]))\n",
    "print('Std. err. mu_hat =', np.sqrt(SigHat2[2, 2]))\n",
    "print('Std. err. sigma_hat =', np.sqrt(SigHat2[3, 3]))"
   ]
  }
 ],
 "metadata": {
  "kernelspec": {
   "display_name": "Python 3",
   "language": "python",
   "name": "python3"
  },
  "language_info": {
   "codemirror_mode": {
    "name": "ipython",
    "version": 3
   },
   "file_extension": ".py",
   "mimetype": "text/x-python",
   "name": "python",
   "nbconvert_exporter": "python",
   "pygments_lexer": "ipython3",
   "version": "3.6.5"
  }
 },
 "nbformat": 4,
 "nbformat_minor": 2
}
